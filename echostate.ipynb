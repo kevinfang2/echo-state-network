{
 "cells": [
  {
   "cell_type": "code",
   "execution_count": 132,
   "metadata": {},
   "outputs": [],
   "source": [
    "import numpy as np\n",
    "import scipy.io\n",
    "from sklearn.preprocessing import OneHotEncoder\n",
    "from sklearn.linear_model import Ridge\n",
    "from sklearn.metrics import accuracy_score, f1_score\n",
    "import torch.nn as nn\n",
    "import torch"
   ]
  },
  {
   "cell_type": "code",
   "execution_count": 117,
   "metadata": {},
   "outputs": [],
   "source": [
    "class Model(nn.Module):\n",
    "    def __init__(self, input_size, output_size, hidden_dim):\n",
    "        super(Model, self).__init__()\n",
    "\n",
    "        n_layers = 1\n",
    "        # Defining some parameters\n",
    "        self.hidden_dim = hidden_dim\n",
    "\n",
    "        self.rnn = nn.RNN(input_size, hidden_dim, n_layers, batch_first=True)\n",
    "        self.fc = nn.Linear(hidden_dim, output_size)\n",
    "    \n",
    "    def forward(self, x):\n",
    "        with torch.no_grad():\n",
    "            # Passing in the input and hidden state into the model and obtaining outputs\n",
    "            hidden = torch.rand((1, x.shape[0], self.hidden_dim))\n",
    "            out, hidden = self.rnn(x, hidden)\n",
    "\n",
    "            # Reshaping the outputs such that it can be fit into the fully connected layer\n",
    "            out = out.contiguous().view(x.shape[0], -1)\n",
    "#             out = self.fc(out)\n",
    "        \n",
    "        return out, hidden"
   ]
  },
  {
   "cell_type": "code",
   "execution_count": 118,
   "metadata": {},
   "outputs": [],
   "source": [
    "# japanese vowel dataset \n",
    "data = scipy.io.loadmat('dataset/JpVow.mat')\n",
    "X = data['X']  \n",
    "Y = data['Y']\n",
    "Xte = data['Xte']\n",
    "Yte = data['Yte']\n",
    "\n",
    "# One-hot encoding for labels\n",
    "onehot_encoder = OneHotEncoder(sparse=False, categories='auto')\n",
    "Y = onehot_encoder.fit_transform(Y)\n",
    "Yte = onehot_encoder.transform(Yte)"
   ]
  },
  {
   "cell_type": "code",
   "execution_count": 119,
   "metadata": {},
   "outputs": [
    {
     "name": "stdout",
     "output_type": "stream",
     "text": [
      "(270, 29, 12) (270, 9) (370, 29, 12) (370, 9)\n"
     ]
    }
   ],
   "source": [
    "print(X.shape, Y.shape, Xte.shape, Yte.shape)"
   ]
  },
  {
   "cell_type": "code",
   "execution_count": 120,
   "metadata": {},
   "outputs": [],
   "source": [
    "model = Model(12, 29, 50)"
   ]
  },
  {
   "cell_type": "code",
   "execution_count": 126,
   "metadata": {},
   "outputs": [
    {
     "name": "stdout",
     "output_type": "stream",
     "text": [
      "torch.Size([370, 1450]) torch.Size([1, 370, 50])\n"
     ]
    }
   ],
   "source": [
    "x = torch.from_numpy(X).float()\n",
    "outputs, hidden = model(x)\n",
    "\n",
    "xte = torch.from_numpy(Xte).float()\n",
    "outputs_test, hidden = model(xte)\n",
    "print(outputs_test.shape, hidden.shape)"
   ]
  },
  {
   "cell_type": "code",
   "execution_count": 129,
   "metadata": {},
   "outputs": [
    {
     "name": "stdout",
     "output_type": "stream",
     "text": [
      "[0 0 0 0 0 0 0 0 0 0 0 0 0 0 0 0 0 0 0 0 0 0 0 0 0 0 0 0 0 0 0 1 1 1 1 1 1\n",
      " 1 1 1 1 1 1 1 1 1 1 1 1 1 1 1 1 1 1 1 1 1 1 1 1 1 1 1 1 1 2 2 2 2 2 2 2 2\n",
      " 2 2 2 2 2 2 2 2 2 2 2 2 2 2 2 2 2 2 2 2 2 2 2 2 2 2 1 2 2 2 2 2 2 2 2 2 2\n",
      " 2 2 2 7 2 2 2 2 2 2 2 2 2 2 2 2 2 7 2 2 2 2 2 2 6 2 2 2 2 2 2 2 2 2 2 2 7\n",
      " 2 2 2 2 2 2 3 3 3 3 3 3 3 3 3 3 3 3 3 3 3 3 3 3 3 3 3 3 3 3 3 3 3 3 3 3 3\n",
      " 3 3 3 3 3 3 3 3 3 3 1 3 3 4 4 4 4 4 4 4 4 4 4 4 4 4 4 4 4 4 4 4 4 4 4 4 4\n",
      " 4 4 4 4 4 5 5 5 5 5 5 5 5 5 5 5 5 5 5 5 5 5 5 5 5 5 5 5 5 6 6 6 6 6 6 6 6\n",
      " 6 6 6 6 6 6 6 6 6 6 6 6 6 6 6 6 6 6 6 6 6 6 6 6 6 6 6 6 6 6 6 6 7 7 7 7 7\n",
      " 7 7 7 7 7 6 7 7 7 7 7 7 7 7 8 7 7 7 7 7 7 7 1 7 7 7 7 7 7 7 7 7 7 7 7 7 7\n",
      " 1 1 7 7 7 7 7 7 8 8 8 8 8 8 8 8 8 8 8 8 8 8 8 8 8 8 8 8 8 4 8 8 8 8 8 8 8]\n"
     ]
    }
   ],
   "source": [
    "# i now want to do linear regression to map the 270,29 outputs to the 270, 9 \n",
    "readout = Ridge(alpha=5)\n",
    "readout.fit(outputs, Y)\n",
    "logits = readout.predict(outputs_test)\n",
    "pred_class = np.argmax(logits, axis=1)"
   ]
  },
  {
   "cell_type": "code",
   "execution_count": 130,
   "metadata": {},
   "outputs": [],
   "source": [
    "true_class = np.argmax(Yte, axis=1)"
   ]
  },
  {
   "cell_type": "code",
   "execution_count": 133,
   "metadata": {},
   "outputs": [
    {
     "data": {
      "text/plain": [
       "0.9675675675675676"
      ]
     },
     "execution_count": 133,
     "metadata": {},
     "output_type": "execute_result"
    }
   ],
   "source": [
    "accuracy_score(true_class, pred_class)"
   ]
  },
  {
   "cell_type": "code",
   "execution_count": null,
   "metadata": {},
   "outputs": [],
   "source": []
  }
 ],
 "metadata": {
  "kernelspec": {
   "display_name": "Python 3",
   "language": "python",
   "name": "python3"
  },
  "language_info": {
   "codemirror_mode": {
    "name": "ipython",
    "version": 3
   },
   "file_extension": ".py",
   "mimetype": "text/x-python",
   "name": "python",
   "nbconvert_exporter": "python",
   "pygments_lexer": "ipython3",
   "version": "3.6.6"
  }
 },
 "nbformat": 4,
 "nbformat_minor": 4
}
